{
 "cells": [
  {
   "cell_type": "code",
   "execution_count": null,
   "id": "a9cffeb7-3404-449b-95d4-32fd3f005964",
   "metadata": {},
   "outputs": [],
   "source": [
    "from datetime import datetime, timedelta\n",
    "from airflow import DAG\n",
    "from airflow.operators.python_operator import PythonOperator\n",
    "import nbformat\n",
    "from nbconvert.preprocessors import ExecutePreprocessor\n",
    "import os"
   ]
  },
  {
   "cell_type": "code",
   "execution_count": null,
   "id": "b1100fde-eb13-46ea-80d5-ce1feeb4b598",
   "metadata": {},
   "outputs": [],
   "source": [
    "def run_notebook(notebook_path, output_path):\n",
    "    with open(notebook_path) as nb_file:\n",
    "        nb_contents = nbformat.read(nb_file, as_version=4)\n",
    "    \n",
    "    ep = ExecutePreprocessor(timeout=600, kernel_name='python3')\n",
    "    ep.preprocess(nb_contents, {'metadata': {'path': notebook_path}})\n",
    "    \n",
    "    with open(output_path, mode='wt') as f:\n",
    "        nbformat.write(nb_contents, f)"
   ]
  },
  {
   "cell_type": "code",
   "execution_count": null,
   "id": "3ac4f796-e74f-4020-a632-f633983e9d20",
   "metadata": {},
   "outputs": [],
   "source": [
    "# Define the default_args dictionary\n",
    "default_args = {\n",
    "    'owner': 'airflow',\n",
    "    'depends_on_past': False,\n",
    "    'email': ['vaibhavshanbhag96@gmail.com'],\n",
    "    'email_on_failure': True,\n",
    "    'email_on_retry': True,\n",
    "    'retries': 3,\n",
    "    'retry_delay': timedelta(minutes=5),\n",
    "}"
   ]
  },
  {
   "cell_type": "code",
   "execution_count": null,
   "id": "b5983da3-ba61-4da8-9a22-e2d6c4b6dc8b",
   "metadata": {},
   "outputs": [],
   "source": [
    "# Define the DAG\n",
    "dag = DAG(\n",
    "    'user_interactions_etl_dag',\n",
    "    default_args=default_args,\n",
    "    description='ETL pipeline for user interactions data',\n",
    "    schedule_interval=timedelta(days=1),\n",
    "    start_date=datetime(2024, 7, 7),\n",
    "    tags=['user interactions', 'transformation'],\n",
    ")"
   ]
  },
  {
   "cell_type": "code",
   "execution_count": 21,
   "id": "9938fc0c-e0bf-4381-985c-a4f68d4fb93a",
   "metadata": {},
   "outputs": [],
   "source": [
    "# Define the task using PythonOperator\n",
    "notebook_path = '../scripts/run_etl_script.ipynb'\n",
    "\n",
    "run_notebook_task = PythonOperator(\n",
    "    task_id='run_notebook',\n",
    "    python_callable=run_notebook,\n",
    "    op_args=[notebook_path],\n",
    "    dag=dag,\n",
    ")"
   ]
  },
  {
   "cell_type": "code",
   "execution_count": null,
   "id": "1ffa71fc-9d80-4582-a596-60f7d8bf9569",
   "metadata": {},
   "outputs": [],
   "source": [
    "# Set the task dependencies\n",
    "run_notebook_task"
   ]
  }
 ],
 "metadata": {
  "kernelspec": {
   "display_name": "Python 3 (ipykernel)",
   "language": "python",
   "name": "python3"
  },
  "language_info": {
   "codemirror_mode": {
    "name": "ipython",
    "version": 3
   },
   "file_extension": ".py",
   "mimetype": "text/x-python",
   "name": "python",
   "nbconvert_exporter": "python",
   "pygments_lexer": "ipython3",
   "version": "3.12.4"
  }
 },
 "nbformat": 4,
 "nbformat_minor": 5
}
