{
 "cells": [
  {
   "cell_type": "code",
   "execution_count": 3,
   "id": "9c53f294-45a1-4598-a64d-97cfcfe96ff1",
   "metadata": {},
   "outputs": [
    {
     "name": "stdout",
     "output_type": "stream",
     "text": [
      "<class 'pandas.core.frame.DataFrame'>\n",
      "RangeIndex: 7 entries, 0 to 6\n",
      "Data columns (total 7 columns):\n",
      " #   Column                     Non-Null Count  Dtype         \n",
      "---  ------                     --------------  -----         \n",
      " 0   interaction_id             7 non-null      int64         \n",
      " 1   user_id                    7 non-null      int64         \n",
      " 2   product_id                 7 non-null      float64       \n",
      " 3   action                     7 non-null      object        \n",
      " 4   timestamp                  7 non-null      datetime64[ns]\n",
      " 5   user_interaction_count     7 non-null      int64         \n",
      " 6   product_interaction_count  7 non-null      int64         \n",
      "dtypes: datetime64[ns](1), float64(1), int64(4), object(1)\n",
      "memory usage: 524.0+ bytes\n",
      "---------------------------------\n",
      "---------------------------------\n",
      "---------------------------------\n",
      "Data loaded into DB successfully.\n",
      "---------------------------------\n",
      "---------------------------------\n",
      "---------------------------------\n"
     ]
    }
   ],
   "source": [
    "%run ../scripts/data_loading.ipynb"
   ]
  },
  {
   "cell_type": "code",
   "execution_count": null,
   "id": "059d493b-a746-4dcc-8702-0eeac921a81a",
   "metadata": {},
   "outputs": [],
   "source": []
  }
 ],
 "metadata": {
  "kernelspec": {
   "display_name": "Python 3 (ipykernel)",
   "language": "python",
   "name": "python3"
  },
  "language_info": {
   "codemirror_mode": {
    "name": "ipython",
    "version": 3
   },
   "file_extension": ".py",
   "mimetype": "text/x-python",
   "name": "python",
   "nbconvert_exporter": "python",
   "pygments_lexer": "ipython3",
   "version": "3.12.4"
  }
 },
 "nbformat": 4,
 "nbformat_minor": 5
}
