{
 "cells": [
  {
   "cell_type": "code",
   "execution_count": null,
   "id": "040ffcce-1d06-4004-b6b7-a913fab33420",
   "metadata": {},
   "outputs": [],
   "source": [
    "import pandas as pd"
   ]
  },
  {
   "cell_type": "code",
   "execution_count": null,
   "id": "2dcf5ec1-2411-43bb-8fbd-4f9b9371bbd3",
   "metadata": {},
   "outputs": [],
   "source": [
    "%run ../scripts/data_injestion.ipynb"
   ]
  },
  {
   "cell_type": "code",
   "execution_count": null,
   "id": "3a6e0888-d398-409e-86e1-57b57d7e8561",
   "metadata": {},
   "outputs": [],
   "source": [
    "# Handle missing values\n",
    "df.fillna({'action': 'unknown', 'user_id': -1, 'product_id': -1}, inplace=True)"
   ]
  },
  {
   "cell_type": "code",
   "execution_count": null,
   "id": "a201d823-6fb3-42b1-aacc-3c23ebca2e41",
   "metadata": {},
   "outputs": [],
   "source": [
    "df.head(10)"
   ]
  },
  {
   "cell_type": "code",
   "execution_count": null,
   "id": "bb1817d4-b627-4ca0-a864-8a3314105287",
   "metadata": {},
   "outputs": [],
   "source": [
    "# Ensure correct data types\n",
    "df['timestamp'] = pd.to_datetime(df['timestamp'])"
   ]
  },
  {
   "cell_type": "code",
   "execution_count": null,
   "id": "b4caee58-a8c4-42b7-b949-350ecadc0058",
   "metadata": {},
   "outputs": [],
   "source": [
    "df.head()"
   ]
  },
  {
   "cell_type": "code",
   "execution_count": null,
   "id": "41a45fad-104a-4d5a-a677-c1b704cf949b",
   "metadata": {},
   "outputs": [],
   "source": []
  }
 ],
 "metadata": {
  "kernelspec": {
   "display_name": "Python 3 (ipykernel)",
   "language": "python",
   "name": "python3"
  },
  "language_info": {
   "codemirror_mode": {
    "name": "ipython",
    "version": 3
   },
   "file_extension": ".py",
   "mimetype": "text/x-python",
   "name": "python",
   "nbconvert_exporter": "python",
   "pygments_lexer": "ipython3",
   "version": "3.12.4"
  }
 },
 "nbformat": 4,
 "nbformat_minor": 5
}
