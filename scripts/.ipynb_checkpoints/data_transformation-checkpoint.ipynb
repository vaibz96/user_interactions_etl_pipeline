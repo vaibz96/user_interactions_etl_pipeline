{
 "cells": [
  {
   "cell_type": "code",
   "execution_count": null,
   "id": "e550068b-1cf7-4106-ad08-ee614a7b67d2",
   "metadata": {},
   "outputs": [],
   "source": [
    "import pandas as pd"
   ]
  },
  {
   "cell_type": "code",
   "execution_count": null,
   "id": "f8841749-0cfb-454b-9ba7-6d3f56bc3528",
   "metadata": {},
   "outputs": [],
   "source": [
    "%run ../scripts/data_cleaning.ipynb"
   ]
  },
  {
   "cell_type": "code",
   "execution_count": null,
   "id": "bd63f7ef-8861-4648-bb7e-4094f54aaa15",
   "metadata": {},
   "outputs": [],
   "source": [
    "# Calculate the number of interactions per user and per product\n",
    "user_interactions_data = df.groupby('user_id').size().reset_index(name='user_interaction_count')\n",
    "product_interactions_data = df.groupby('product_id').size().reset_index(name='product_interaction_count')"
   ]
  },
  {
   "cell_type": "code",
   "execution_count": null,
   "id": "c39fb083-f9ea-4ed8-8be5-287e3546f21d",
   "metadata": {},
   "outputs": [],
   "source": [
    "# Merge the interaction counts back into the original DataFrame\n",
    "df = df.merge(user_interactions_data, on='user_id', how='left')\n",
    "df = df.merge(product_interactions_data, on='product_id', how='left')"
   ]
  },
  {
   "cell_type": "code",
   "execution_count": null,
   "id": "f22f81d2-a519-4773-9654-fa12523c2dc0",
   "metadata": {},
   "outputs": [],
   "source": [
    "# Display transformed DataFrame\n",
    "df.head(10)"
   ]
  },
  {
   "cell_type": "code",
   "execution_count": null,
   "id": "a6a19ebf-6bc0-4679-86cc-dc67ee19b9cc",
   "metadata": {},
   "outputs": [],
   "source": [
    "df.info()"
   ]
  },
  {
   "cell_type": "code",
   "execution_count": null,
   "id": "898838f5-7016-4175-be84-cbb0a48bf8f3",
   "metadata": {},
   "outputs": [],
   "source": []
  }
 ],
 "metadata": {
  "kernelspec": {
   "display_name": "Python 3 (ipykernel)",
   "language": "python",
   "name": "python3"
  },
  "language_info": {
   "codemirror_mode": {
    "name": "ipython",
    "version": 3
   },
   "file_extension": ".py",
   "mimetype": "text/x-python",
   "name": "python",
   "nbconvert_exporter": "python",
   "pygments_lexer": "ipython3",
   "version": "3.12.4"
  }
 },
 "nbformat": 4,
 "nbformat_minor": 5
}
