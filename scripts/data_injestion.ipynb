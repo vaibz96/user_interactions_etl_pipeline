{
 "cells": [
  {
   "cell_type": "code",
   "execution_count": null,
   "id": "f06ae4aa-90ef-4790-bbae-0cb4e30719ce",
   "metadata": {},
   "outputs": [],
   "source": [
    "import pandas as pd"
   ]
  },
  {
   "cell_type": "code",
   "execution_count": null,
   "id": "48fbab7d-0937-4fa7-94a6-96ce9a6d05be",
   "metadata": {},
   "outputs": [],
   "source": [
    "# Define CSV file\n",
    "csv_file_path = \"../data/interactions_data.csv\""
   ]
  },
  {
   "cell_type": "code",
   "execution_count": null,
   "id": "01127fc8-3406-40e5-918a-ff13df769ee2",
   "metadata": {},
   "outputs": [],
   "source": [
    "# Read the CSV file into a DataFrame\n",
    "df = pd.read_csv(csv_file_path, parse_dates=['timestamp'])"
   ]
  },
  {
   "cell_type": "code",
   "execution_count": null,
   "id": "e5e00a48-a95f-4c95-a9d6-dad5beda8b02",
   "metadata": {},
   "outputs": [],
   "source": [
    "# Display few rows of the DataFrame\n",
    "df.head()"
   ]
  },
  {
   "cell_type": "code",
   "execution_count": null,
   "id": "4eec1f44-3731-409b-9c09-017341e4b9c5",
   "metadata": {},
   "outputs": [],
   "source": []
  }
 ],
 "metadata": {
  "kernelspec": {
   "display_name": "Python 3 (ipykernel)",
   "language": "python",
   "name": "python3"
  },
  "language_info": {
   "codemirror_mode": {
    "name": "ipython",
    "version": 3
   },
   "file_extension": ".py",
   "mimetype": "text/x-python",
   "name": "python",
   "nbconvert_exporter": "python",
   "pygments_lexer": "ipython3",
   "version": "3.12.4"
  }
 },
 "nbformat": 4,
 "nbformat_minor": 5
}
