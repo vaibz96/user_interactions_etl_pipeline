{
 "cells": [
  {
   "cell_type": "code",
   "execution_count": null,
   "id": "0d1b7d60-b987-4d6a-abec-d2ffc5802b02",
   "metadata": {},
   "outputs": [],
   "source": [
    "import pandas as pd\n",
    "from sqlalchemy import create_engine\n",
    "from local_settings import postgresql as settings\n",
    "import psycopg2"
   ]
  },
  {
   "cell_type": "code",
   "execution_count": null,
   "id": "63ebf574-444a-4f7c-bae5-5a173e0b1a22",
   "metadata": {},
   "outputs": [],
   "source": [
    "%run ../scripts/data_transformation.ipynb"
   ]
  },
  {
   "cell_type": "code",
   "execution_count": null,
   "id": "2b294597-dc2a-4aaf-ab09-24b4eade76c2",
   "metadata": {},
   "outputs": [],
   "source": [
    "# Please create a settings object that replaces the below variables\n",
    "username = settings['pguser']\n",
    "password = settings['pgpassword']\n",
    "host = settings['pghost']\n",
    "port = settings['pgport']\n",
    "your_database = settings['pgdb']"
   ]
  },
  {
   "cell_type": "code",
   "execution_count": null,
   "id": "fe72b3d4-080b-4475-a4d8-117b9a2be2c3",
   "metadata": {},
   "outputs": [],
   "source": [
    "# Load the cleaned and transformed data into a PostgreSQL database\n",
    "database_url = f'postgresql://{username}:{password}@{host}:{port}/{your_database}'\n",
    "engine = create_engine(database_url)"
   ]
  },
  {
   "cell_type": "code",
   "execution_count": null,
   "id": "809ab106-c51e-4e49-bff2-7ed1ca52e1d2",
   "metadata": {},
   "outputs": [],
   "source": [
    "df.head()"
   ]
  },
  {
   "cell_type": "code",
   "execution_count": null,
   "id": "f4abb089-c149-4667-8d0a-4d7c6cdb8c52",
   "metadata": {},
   "outputs": [],
   "source": [
    "# Save Users Interactions DataFrame to the SQL database\n",
    "df.to_sql('user_interactions_data_transformed', engine, if_exists='replace', index=False)"
   ]
  },
  {
   "cell_type": "code",
   "execution_count": null,
   "id": "0022b256-227f-4b2f-acf8-da5252f88370",
   "metadata": {},
   "outputs": [],
   "source": [
    "print(\"---------------------------------\")\n",
    "print(\"---------------------------------\")\n",
    "print(\"---------------------------------\")\n",
    "print(\"Data loaded into DB successfully.\")\n",
    "print(\"---------------------------------\")\n",
    "print(\"---------------------------------\")\n",
    "print(\"---------------------------------\")"
   ]
  }
 ],
 "metadata": {
  "kernelspec": {
   "display_name": "Python 3 (ipykernel)",
   "language": "python",
   "name": "python3"
  },
  "language_info": {
   "codemirror_mode": {
    "name": "ipython",
    "version": 3
   },
   "file_extension": ".py",
   "mimetype": "text/x-python",
   "name": "python",
   "nbconvert_exporter": "python",
   "pygments_lexer": "ipython3",
   "version": "3.12.4"
  }
 },
 "nbformat": 4,
 "nbformat_minor": 5
}
